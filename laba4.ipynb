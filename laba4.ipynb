{
 "cells": [
  {
   "cell_type": "code",
   "execution_count": 11,
   "id": "7f44e1b1",
   "metadata": {},
   "outputs": [],
   "source": [
    "simple_seed = 10\n",
    "def random1(min_val, max_val):\n",
    "    global simple_seed\n",
    "    simple_seed = simple_seed * 11 + 7\n",
    "    return min_val + simple_seed  % (max_val - min_val)"
   ]
  },
  {
   "cell_type": "code",
   "execution_count": 12,
   "id": "78a90300",
   "metadata": {},
   "outputs": [],
   "source": [
    "xorshift_seed = 11\n",
    "def random2(min_val, max_val):\n",
    "    global xorshift_seed\n",
    "    xorshift_seed ^= xorshift_seed << 13\n",
    "    xorshift_seed ^= xorshift_seed >> 17\n",
    "    xorshift_seed ^= xorshift_seed << 5\n",
    "    xorshift_seed %= int(\"ffffffff\", 16)\n",
    "    return min_val + xorshift_seed % (max_val - min_val)"
   ]
  },
  {
   "cell_type": "code",
   "execution_count": 13,
   "id": "92e176d0",
   "metadata": {},
   "outputs": [],
   "source": [
    "n = [100, 200, 300, 400, 500, 1000, 2000, 3000, 4000, 5000]\n",
    "s1, s2, s3, s4, s5, s6, s7, s8, s9, s10 = [], [], [], [], [], [], [], [], [], []\n",
    "x1, x2, x3, x4, x5, x6, x7, x8, x9, x10 = [], [], [], [], [], [], [], [], [], []\n",
    "simple = [s1, s2, s3, s4, s5, s6, s7, s8, s9, s10]\n",
    "xor = [x1, x2, x3, x4, x5, x6, x7, x8, x9, x10]\n",
    "for i in range(10):\n",
    "    for j in range(n[i]):\n",
    "        simple[i].append(random1(0, 10000))\n",
    "        xor[i].append(random2(0, 10000))  "
   ]
  },
  {
   "cell_type": "code",
   "execution_count": 14,
   "id": "e613534d",
   "metadata": {},
   "outputs": [
    {
     "name": "stdout",
     "output_type": "stream",
     "text": [
      "[4493.5, 5243.5, 4826.833333333333, 5268.5, 5293.5, 5083.5, 4863.5, 5090.166666666667, 4978.5, 4999.5]\n",
      "[4797.83, 5090.975, 5079.056666666666, 5055.5025, 4981.042, 5163.505, 5121.3775, 5017.098333333333, 4967.63625, 5076.3904]\n"
     ]
    }
   ],
   "source": [
    "mean_simple = []\n",
    "mean_xor = []\n",
    "for i in range(10):\n",
    "    sum_simple = 0\n",
    "    sum_xor = 0\n",
    "    for j in range(n[i]):\n",
    "        sum_simple += simple[i][j]\n",
    "        sum_xor += xor[i][j]\n",
    "    sum_simple /= n[i]\n",
    "    sum_xor /= n[i]\n",
    "    mean_simple.append(sum_simple)\n",
    "    mean_xor.append(sum_xor)\n",
    "print(mean_simple)\n",
    "print(mean_xor)"
   ]
  },
  {
   "cell_type": "code",
   "execution_count": 15,
   "id": "1d8e08fb",
   "metadata": {},
   "outputs": [
    {
     "name": "stdout",
     "output_type": "stream",
     "text": [
      "[8168674.25, 7105324.25, 8112896.472222211, 7974624.25, 8317954.25, 8835184.25, 8294654.25, 8338566.472222148, 8205664.25, 8333332.25]\n",
      "[8197938.281100006, 8583726.384374999, 8412169.77345555, 8989149.084993755, 8510828.452236, 8255218.545974982, 8354628.413993763, 8116429.38133056, 8283135.007935934, 8293825.064387831]\n"
     ]
    }
   ],
   "source": [
    "disp_simple = []\n",
    "disp_xor = []\n",
    "for i in range(10):\n",
    "    sum_simple = 0\n",
    "    sum_xor = 0\n",
    "    for j in range(n[i]):\n",
    "        sum_simple += (simple[i][j] - mean_simple[i]) ** 2\n",
    "        sum_xor += (xor[i][j] - mean_xor[i]) ** 2\n",
    "    sum_simple /= n[i]\n",
    "    sum_xor /= n[i]\n",
    "    disp_simple.append(sum_simple)\n",
    "    disp_xor.append(sum_xor)\n",
    "print(disp_simple)\n",
    "print(disp_xor)"
   ]
  },
  {
   "cell_type": "code",
   "execution_count": 16,
   "id": "681e1444",
   "metadata": {},
   "outputs": [],
   "source": [
    "import math"
   ]
  },
  {
   "cell_type": "code",
   "execution_count": 17,
   "id": "8cf85f6a",
   "metadata": {},
   "outputs": [
    {
     "name": "stdout",
     "output_type": "stream",
     "text": [
      "[2858.089265575867, 2665.5814093739473, 2848.3146722618644, 2823.9377206305385, 2884.086380467825, 2972.4037831357973, 2880.0441402867423, 2887.657609936148, 2864.553062870367, 2886.751158309285]\n",
      "[2863.2041982890437, 2929.799717450836, 2900.3740747454544, 2998.190968733272, 2917.3324205917984, 2873.189611907815, 2890.437408765975, 2848.9347801117806, 2878.043607719649, 2879.900183059793]\n"
     ]
    }
   ],
   "source": [
    "otk_simple = []\n",
    "otk_xor = []\n",
    "for i in range(10):\n",
    "    otk_simple.append(math.sqrt(disp_simple[i]))\n",
    "    otk_xor.append(math.sqrt(disp_xor[i]))\n",
    "print(otk_simple)\n",
    "print(otk_xor)"
   ]
  },
  {
   "cell_type": "code",
   "execution_count": 18,
   "id": "6805794e",
   "metadata": {},
   "outputs": [
    {
     "name": "stdout",
     "output_type": "stream",
     "text": [
      "[63.6049686341575, 50.83591893532845, 59.01000667646555, 53.6004122735226, 54.48354360003448, 58.47159994365687, 59.21752113265636, 56.730119051821774, 57.538476707248506, 57.740797245910294]\n",
      "[59.67706647148906, 57.54889225444705, 57.10458191538431, 59.305498686495994, 58.56871756134154, 55.644172164214325, 56.438671212305195, 56.784511501072444, 57.93587659965339, 56.73125894848027]\n"
     ]
    }
   ],
   "source": [
    "kor_simple = []\n",
    "kor_xor = []\n",
    "for i in range(10):\n",
    "    kor_simple.append((otk_simple[i] / mean_simple[i]) * 100)\n",
    "    kor_xor.append((otk_xor[i] / mean_xor[i]) * 100)\n",
    "print(kor_simple)\n",
    "print(kor_xor)"
   ]
  },
  {
   "cell_type": "code",
   "execution_count": 19,
   "id": "db9bfdbb",
   "metadata": {},
   "outputs": [
    {
     "name": "stdout",
     "output_type": "stream",
     "text": [
      "[6, 7, 8, 8, 8, 9, 10, 11, 11, 12]\n",
      "[4.999999999999999, 17.599999999999998, 4.74000000000001, 17.78, 13.612000000000029, 12.980000000000036, 8.963000000000017, 5.92799999999997, 2.737999999999975, 0.013200000000002892]\n",
      "[5.4199999999999875, 2.000000000000001, 4.500000000000014, 11.569999999999997, 5.728000000000027, 10.200000000000033, 9.897999999999971, 11.02400000000017, 19.98799999999994, 11.515600000000035]\n"
     ]
    }
   ],
   "source": [
    "def hi(l):\n",
    "    hi_t = []\n",
    "    r_t = []\n",
    "    for i in l:\n",
    "        lst = sorted(i) \n",
    "        interval = [] \n",
    "        n = len(i) \n",
    "        summ = 0\n",
    "        r = 1 + math.floor(math.log(n, 2))\n",
    "        r_t.append(r - 1)\n",
    "        n_i = [0] * r\n",
    "        p_i = []\n",
    "        for d in range(0, r + 1):\n",
    "            interval.append(d * 10000 / r)\n",
    "        for c in lst:\n",
    "            for d in range(1, r + 1):\n",
    "                if c < interval[d]:\n",
    "                    n_i[d - 1] +=  1\n",
    "                    break\n",
    "        for d in range(0, r):\n",
    "            p_i.append(((interval[d + 1] + 1) / 10000) - ((interval[d] + 1) / 10000))\n",
    "        for d in range (r):\n",
    "            summ += (((n_i[d] / n) - p_i[d]) ** 2) / p_i[d]\n",
    "        hi_t.append(summ * n)\n",
    "    return(hi_t, r_t)\n",
    "res1, r1 = hi(simple)\n",
    "res2, r2 = hi(xor)\n",
    "print(r1)\n",
    "print(res1)\n",
    "print(res2)"
   ]
  },
  {
   "cell_type": "code",
   "execution_count": 33,
   "id": "930fe936",
   "metadata": {},
   "outputs": [
    {
     "name": "stdout",
     "output_type": "stream",
     "text": [
      "принимается принимается \n",
      "отвергается принимается \n",
      "принимается принимается \n",
      "отвергается отвергается \n",
      "отвергается принимается \n",
      "отвергается принимается \n",
      "принимается принимается \n",
      "принимается принимается \n",
      "принимается отвергается \n",
      "принимается принимается \n"
     ]
    }
   ],
   "source": [
    "first = [4.999999999999999, 17.599999999999998, 4.74000000000001, 17.78, 13.612000000000029, 12.980000000000036, 8.963000000000017, 5.92799999999997, 2.737999999999975, 0.013200000000002892]\n",
    "second = [5.4199999999999875, 2.000000000000001, 4.500000000000014, 11.569999999999997, 5.728000000000027, 10.200000000000033, 9.897999999999971, 11.02400000000017, 19.98799999999994, 11.515600000000035]\n",
    "a = [8.555, 9.803, 11.03, 11.03, 11.03, 12.242, 13.444, 14.631, 14.631, 15.812]\n",
    "for i in range(len(first)):\n",
    "    if (first[i] < a[i]):\n",
    "        print('принимается ', end = '')\n",
    "    else:\n",
    "        print('отвергается ', end = '')\n",
    "    if (second[i] < a[i]):\n",
    "        print('принимается ', end = '')\n",
    "    else:\n",
    "        print('отвергается ', end = '')\n",
    "    print()"
   ]
  },
  {
   "cell_type": "code",
   "execution_count": 4,
   "id": "82bb94c6",
   "metadata": {},
   "outputs": [],
   "source": [
    "from time import time\n",
    "import random"
   ]
  },
  {
   "cell_type": "code",
   "execution_count": 6,
   "id": "79d5e52d",
   "metadata": {},
   "outputs": [
    {
     "ename": "KeyboardInterrupt",
     "evalue": "",
     "output_type": "error",
     "traceback": [
      "\u001b[0;31m---------------------------------------------------------------------------\u001b[0m",
      "\u001b[0;31mKeyboardInterrupt\u001b[0m                         Traceback (most recent call last)",
      "Cell \u001b[0;32mIn [6], line 3\u001b[0m\n\u001b[1;32m      1\u001b[0m time_res \u001b[38;5;241m=\u001b[39m []\n\u001b[1;32m      2\u001b[0m \u001b[38;5;28;01mfor\u001b[39;00m i \u001b[38;5;129;01min\u001b[39;00m \u001b[38;5;28mrange\u001b[39m(\u001b[38;5;241m1000000\u001b[39m):\n\u001b[0;32m----> 3\u001b[0m     \u001b[43mrandom1\u001b[49m\u001b[43m(\u001b[49m\u001b[38;5;241;43m0\u001b[39;49m\u001b[43m,\u001b[49m\u001b[43m \u001b[49m\u001b[38;5;241;43m10000\u001b[39;49m\u001b[43m)\u001b[49m\n\u001b[1;32m      4\u001b[0m     \u001b[38;5;28;01mif\u001b[39;00m i \u001b[38;5;241m==\u001b[39m \u001b[38;5;241m1000\u001b[39m:\n\u001b[1;32m      5\u001b[0m         start1 \u001b[38;5;241m=\u001b[39m time()\n",
      "\u001b[0;31mKeyboardInterrupt\u001b[0m: "
     ]
    }
   ],
   "source": [
    "time_res = []\n",
    "for i in range(1000000):\n",
    "    random1(0, 10000)\n",
    "    if i == 1000:\n",
    "        start1 = time()\n",
    "    if i == 999999:\n",
    "        time_res.append(time() - start1)\n",
    "for i in range(1000000):\n",
    "    random2(0, 10000)\n",
    "    if i == 1000:\n",
    "        start2 = time()\n",
    "    if i == 999999:\n",
    "        time_res.append(time() - start2)\n",
    "for i in range(1000000):\n",
    "    random.randint(0, 10000)\n",
    "    if i == 1000:\n",
    "        start3 = time()\n",
    "    if i == 999999:\n",
    "        time_res.append(time() - start3)   "
   ]
  },
  {
   "cell_type": "code",
   "execution_count": 9,
   "id": "db37576a",
   "metadata": {},
   "outputs": [
    {
     "data": {
      "image/png": "[encoded data removed]",
      "text/plain": [
       "<Figure size 640x480 with 1 Axes>"
      ]
     },
     "metadata": {},
     "output_type": "display_data"
    },
    {
     "data": {
      "text/plain": [
       "<Figure size 640x480 with 0 Axes>"
      ]
     },
     "metadata": {},
     "output_type": "display_data"
    }
   ],
   "source": [
    "import matplotlib.pyplot as plt\n",
    "x = [1, 2, 3]\n",
    "time_res = [1953.371933221817, 3.1771461963653564, 3.141115188598633]\n",
    "plt.plot (x, time_res)\n",
    "plt.show()\n",
    "plt.savefig('laba4plot.png')"
   ]
  },
  {
   "cell_type": "code",
   "execution_count": null,
   "id": "2c34c594",
   "metadata": {},
   "outputs": [],
   "source": []
  },
  {
   "cell_type": "code",
   "execution_count": null,
   "id": "4cfa6344",
   "metadata": {},
   "outputs": [],
   "source": []
  }
 ],
 "metadata": {
  "kernelspec": {
   "display_name": "Python 3 (ipykernel)",
   "language": "python",
   "name": "python3"
  },
  "language_info": {
   "codemirror_mode": {
    "name": "ipython",
    "version": 3
   },
   "file_extension": ".py",
   "mimetype": "text/x-python",
   "name": "python",
   "nbconvert_exporter": "python",
   "pygments_lexer": "ipython3",
   "version": "3.10.6"
  }
 },
 "nbformat": 4,
 "nbformat_minor": 5
}
